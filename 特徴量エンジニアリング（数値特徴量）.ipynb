{
 "cells": [
  {
   "cell_type": "markdown",
   "metadata": {},
   "source": [
    "# 特徴量エンジニアリング（数値特徴量）"
   ]
  },
  {
   "cell_type": "code",
   "execution_count": null,
   "metadata": {
    "collapsed": true
   },
   "outputs": [],
   "source": [
    "!git clone https://github.com/nejumi/fe_workshop.git"
   ]
  },
  {
   "cell_type": "code",
   "execution_count": 1,
   "metadata": {
    "collapsed": true
   },
   "outputs": [],
   "source": [
    "import warnings\n",
    "warnings.filterwarnings('ignore')\n",
    "\n",
    "import numpy as np\n",
    "import pandas as pd\n",
    "from pandas import DataFrame, Series\n",
    "pd.set_option('display.max_columns', 100)\n",
    "\n",
    "from sklearn.preprocessing import StandardScaler, MinMaxScaler, QuantileTransformer\n",
    "\n",
    "import matplotlib.pyplot as plt\n",
    "plt.style.use('ggplot')\n",
    "%matplotlib inline"
   ]
  },
  {
   "cell_type": "code",
   "execution_count": null,
   "metadata": {},
   "outputs": [],
   "source": [
    "# collaboratoryにLendingClub50000.csvをアップロードする。\n",
    "from google.colab import files\n",
    "#uploaded = files.upload() # ローカルからアップロードできるが今回は使用しない。"
   ]
  },
  {
   "cell_type": "code",
   "execution_count": 31,
   "metadata": {
    "collapsed": true
   },
   "outputs": [],
   "source": [
    "# ファイルを読み込む\n",
    "df = pd.read_csv('dataset/LendingClub50000.csv')"
   ]
  },
  {
   "cell_type": "code",
   "execution_count": 32,
   "metadata": {},
   "outputs": [
    {
     "data": {
      "text/html": [
       "<div>\n",
       "<style scoped>\n",
       "    .dataframe tbody tr th:only-of-type {\n",
       "        vertical-align: middle;\n",
       "    }\n",
       "\n",
       "    .dataframe tbody tr th {\n",
       "        vertical-align: top;\n",
       "    }\n",
       "\n",
       "    .dataframe thead th {\n",
       "        text-align: right;\n",
       "    }\n",
       "</style>\n",
       "<table border=\"1\" class=\"dataframe\">\n",
       "  <thead>\n",
       "    <tr style=\"text-align: right;\">\n",
       "      <th></th>\n",
       "      <th>ID</th>\n",
       "      <th>member_id</th>\n",
       "      <th>year</th>\n",
       "      <th>month</th>\n",
       "      <th>loan_amount</th>\n",
       "      <th>purpose_type</th>\n",
       "      <th>purpose_detail</th>\n",
       "      <th>title</th>\n",
       "      <th>emp_length</th>\n",
       "      <th>home_ownership</th>\n",
       "      <th>annual_inc</th>\n",
       "      <th>zip_code</th>\n",
       "      <th>addr_state</th>\n",
       "      <th>dti</th>\n",
       "      <th>grade</th>\n",
       "      <th>sub_grade</th>\n",
       "      <th>delinq_2yrs</th>\n",
       "      <th>earliest_cr_line</th>\n",
       "      <th>inq_last_6mths</th>\n",
       "      <th>mths_since_last_delinq</th>\n",
       "      <th>mths_since_last_record</th>\n",
       "      <th>open_acc</th>\n",
       "      <th>pub_rec</th>\n",
       "      <th>revol_bal</th>\n",
       "      <th>revol_util</th>\n",
       "      <th>total_acc</th>\n",
       "      <th>initial_list_status</th>\n",
       "      <th>collections_12_mths_ex_med</th>\n",
       "      <th>mths_since_last_major_derog</th>\n",
       "      <th>application_type</th>\n",
       "      <th>acc_now_delinq</th>\n",
       "      <th>tot_coll_amt</th>\n",
       "      <th>tot_cur_bal</th>\n",
       "      <th>bad_loan</th>\n",
       "    </tr>\n",
       "  </thead>\n",
       "  <tbody>\n",
       "    <tr>\n",
       "      <th>0</th>\n",
       "      <td>1529851</td>\n",
       "      <td>1793711</td>\n",
       "      <td>2012</td>\n",
       "      <td>9</td>\n",
       "      <td>16000.0</td>\n",
       "      <td>debt_consolidation</td>\n",
       "      <td>Debt Consolidation / Final Wedding Exp</td>\n",
       "      <td>PwC</td>\n",
       "      <td>3.0</td>\n",
       "      <td>RENT</td>\n",
       "      <td>90400.0</td>\n",
       "      <td>080xx</td>\n",
       "      <td>NJ</td>\n",
       "      <td>23.72</td>\n",
       "      <td>A</td>\n",
       "      <td>A4</td>\n",
       "      <td>0.0</td>\n",
       "      <td>Oct-2003</td>\n",
       "      <td>0.0</td>\n",
       "      <td>NaN</td>\n",
       "      <td>NaN</td>\n",
       "      <td>21.0</td>\n",
       "      <td>0.0</td>\n",
       "      <td>3946.0</td>\n",
       "      <td>22.4</td>\n",
       "      <td>42.0</td>\n",
       "      <td>f</td>\n",
       "      <td>0.0</td>\n",
       "      <td>NaN</td>\n",
       "      <td>INDIVIDUAL</td>\n",
       "      <td>0.0</td>\n",
       "      <td>0.0</td>\n",
       "      <td>164787.0</td>\n",
       "      <td>False</td>\n",
       "    </tr>\n",
       "    <tr>\n",
       "      <th>1</th>\n",
       "      <td>1824764</td>\n",
       "      <td>2126933</td>\n",
       "      <td>2012</td>\n",
       "      <td>11</td>\n",
       "      <td>3600.0</td>\n",
       "      <td>debt_consolidation</td>\n",
       "      <td>Crush Credit Cards</td>\n",
       "      <td>Morgan Stanley Smith Barney</td>\n",
       "      <td>2.0</td>\n",
       "      <td>RENT</td>\n",
       "      <td>42500.0</td>\n",
       "      <td>217xx</td>\n",
       "      <td>MD</td>\n",
       "      <td>17.34</td>\n",
       "      <td>B</td>\n",
       "      <td>B3</td>\n",
       "      <td>0.0</td>\n",
       "      <td>Dec-2004</td>\n",
       "      <td>0.0</td>\n",
       "      <td>NaN</td>\n",
       "      <td>NaN</td>\n",
       "      <td>16.0</td>\n",
       "      <td>0.0</td>\n",
       "      <td>10927.0</td>\n",
       "      <td>63.5</td>\n",
       "      <td>30.0</td>\n",
       "      <td>f</td>\n",
       "      <td>0.0</td>\n",
       "      <td>NaN</td>\n",
       "      <td>INDIVIDUAL</td>\n",
       "      <td>0.0</td>\n",
       "      <td>8806.0</td>\n",
       "      <td>96627.0</td>\n",
       "      <td>False</td>\n",
       "    </tr>\n",
       "    <tr>\n",
       "      <th>2</th>\n",
       "      <td>403548</td>\n",
       "      <td>442721</td>\n",
       "      <td>2009</td>\n",
       "      <td>5</td>\n",
       "      <td>19200.0</td>\n",
       "      <td>wedding</td>\n",
       "      <td>Consolidate debt and pay for wedding</td>\n",
       "      <td>Aggregate Knowledge</td>\n",
       "      <td>1.0</td>\n",
       "      <td>RENT</td>\n",
       "      <td>95000.0</td>\n",
       "      <td>940xx</td>\n",
       "      <td>CA</td>\n",
       "      <td>7.58</td>\n",
       "      <td>B</td>\n",
       "      <td>B4</td>\n",
       "      <td>0.0</td>\n",
       "      <td>Mar-1999</td>\n",
       "      <td>0.0</td>\n",
       "      <td>NaN</td>\n",
       "      <td>NaN</td>\n",
       "      <td>11.0</td>\n",
       "      <td>0.0</td>\n",
       "      <td>14006.0</td>\n",
       "      <td>20.3</td>\n",
       "      <td>26.0</td>\n",
       "      <td>f</td>\n",
       "      <td>0.0</td>\n",
       "      <td>NaN</td>\n",
       "      <td>INDIVIDUAL</td>\n",
       "      <td>0.0</td>\n",
       "      <td>NaN</td>\n",
       "      <td>NaN</td>\n",
       "      <td>False</td>\n",
       "    </tr>\n",
       "    <tr>\n",
       "      <th>3</th>\n",
       "      <td>646411</td>\n",
       "      <td>799671</td>\n",
       "      <td>2011</td>\n",
       "      <td>1</td>\n",
       "      <td>21000.0</td>\n",
       "      <td>credit_card</td>\n",
       "      <td>Wells BofA Credit Card Refi</td>\n",
       "      <td>Emerson Process Management</td>\n",
       "      <td>1.0</td>\n",
       "      <td>RENT</td>\n",
       "      <td>85000.0</td>\n",
       "      <td>926xx</td>\n",
       "      <td>CA</td>\n",
       "      <td>17.07</td>\n",
       "      <td>B</td>\n",
       "      <td>B5</td>\n",
       "      <td>0.0</td>\n",
       "      <td>Jun-1999</td>\n",
       "      <td>1.0</td>\n",
       "      <td>NaN</td>\n",
       "      <td>NaN</td>\n",
       "      <td>12.0</td>\n",
       "      <td>0.0</td>\n",
       "      <td>36280.0</td>\n",
       "      <td>47.6</td>\n",
       "      <td>25.0</td>\n",
       "      <td>f</td>\n",
       "      <td>0.0</td>\n",
       "      <td>NaN</td>\n",
       "      <td>INDIVIDUAL</td>\n",
       "      <td>0.0</td>\n",
       "      <td>NaN</td>\n",
       "      <td>NaN</td>\n",
       "      <td>False</td>\n",
       "    </tr>\n",
       "    <tr>\n",
       "      <th>4</th>\n",
       "      <td>552526</td>\n",
       "      <td>711946</td>\n",
       "      <td>2010</td>\n",
       "      <td>7</td>\n",
       "      <td>4000.0</td>\n",
       "      <td>other</td>\n",
       "      <td>Debt Consolidation</td>\n",
       "      <td>Home Depot</td>\n",
       "      <td>1.0</td>\n",
       "      <td>RENT</td>\n",
       "      <td>63500.0</td>\n",
       "      <td>303xx</td>\n",
       "      <td>GA</td>\n",
       "      <td>19.50</td>\n",
       "      <td>C</td>\n",
       "      <td>C4</td>\n",
       "      <td>1.0</td>\n",
       "      <td>Oct-2002</td>\n",
       "      <td>2.0</td>\n",
       "      <td>23.0</td>\n",
       "      <td>NaN</td>\n",
       "      <td>16.0</td>\n",
       "      <td>0.0</td>\n",
       "      <td>595.0</td>\n",
       "      <td>11.4</td>\n",
       "      <td>24.0</td>\n",
       "      <td>f</td>\n",
       "      <td>0.0</td>\n",
       "      <td>NaN</td>\n",
       "      <td>INDIVIDUAL</td>\n",
       "      <td>0.0</td>\n",
       "      <td>NaN</td>\n",
       "      <td>NaN</td>\n",
       "      <td>False</td>\n",
       "    </tr>\n",
       "  </tbody>\n",
       "</table>\n",
       "</div>"
      ],
      "text/plain": [
       "        ID  member_id  year  month  loan_amount        purpose_type  \\\n",
       "0  1529851    1793711  2012      9      16000.0  debt_consolidation   \n",
       "1  1824764    2126933  2012     11       3600.0  debt_consolidation   \n",
       "2   403548     442721  2009      5      19200.0             wedding   \n",
       "3   646411     799671  2011      1      21000.0         credit_card   \n",
       "4   552526     711946  2010      7       4000.0               other   \n",
       "\n",
       "                           purpose_detail                        title  \\\n",
       "0  Debt Consolidation / Final Wedding Exp                          PwC   \n",
       "1                      Crush Credit Cards  Morgan Stanley Smith Barney   \n",
       "2    Consolidate debt and pay for wedding          Aggregate Knowledge   \n",
       "3             Wells BofA Credit Card Refi   Emerson Process Management   \n",
       "4                      Debt Consolidation                   Home Depot   \n",
       "\n",
       "   emp_length home_ownership  annual_inc zip_code addr_state    dti grade  \\\n",
       "0         3.0           RENT     90400.0    080xx         NJ  23.72     A   \n",
       "1         2.0           RENT     42500.0    217xx         MD  17.34     B   \n",
       "2         1.0           RENT     95000.0    940xx         CA   7.58     B   \n",
       "3         1.0           RENT     85000.0    926xx         CA  17.07     B   \n",
       "4         1.0           RENT     63500.0    303xx         GA  19.50     C   \n",
       "\n",
       "  sub_grade  delinq_2yrs earliest_cr_line  inq_last_6mths  \\\n",
       "0        A4          0.0         Oct-2003             0.0   \n",
       "1        B3          0.0         Dec-2004             0.0   \n",
       "2        B4          0.0         Mar-1999             0.0   \n",
       "3        B5          0.0         Jun-1999             1.0   \n",
       "4        C4          1.0         Oct-2002             2.0   \n",
       "\n",
       "   mths_since_last_delinq  mths_since_last_record  open_acc  pub_rec  \\\n",
       "0                     NaN                     NaN      21.0      0.0   \n",
       "1                     NaN                     NaN      16.0      0.0   \n",
       "2                     NaN                     NaN      11.0      0.0   \n",
       "3                     NaN                     NaN      12.0      0.0   \n",
       "4                    23.0                     NaN      16.0      0.0   \n",
       "\n",
       "   revol_bal  revol_util  total_acc initial_list_status  \\\n",
       "0     3946.0        22.4       42.0                   f   \n",
       "1    10927.0        63.5       30.0                   f   \n",
       "2    14006.0        20.3       26.0                   f   \n",
       "3    36280.0        47.6       25.0                   f   \n",
       "4      595.0        11.4       24.0                   f   \n",
       "\n",
       "   collections_12_mths_ex_med  mths_since_last_major_derog application_type  \\\n",
       "0                         0.0                          NaN       INDIVIDUAL   \n",
       "1                         0.0                          NaN       INDIVIDUAL   \n",
       "2                         0.0                          NaN       INDIVIDUAL   \n",
       "3                         0.0                          NaN       INDIVIDUAL   \n",
       "4                         0.0                          NaN       INDIVIDUAL   \n",
       "\n",
       "   acc_now_delinq  tot_coll_amt  tot_cur_bal  bad_loan  \n",
       "0             0.0           0.0     164787.0     False  \n",
       "1             0.0        8806.0      96627.0     False  \n",
       "2             0.0           NaN          NaN     False  \n",
       "3             0.0           NaN          NaN     False  \n",
       "4             0.0           NaN          NaN     False  "
      ]
     },
     "execution_count": 32,
     "metadata": {},
     "output_type": "execute_result"
    }
   ],
   "source": [
    "df.head()"
   ]
  },
  {
   "cell_type": "markdown",
   "metadata": {},
   "source": [
    "## 各標準化手法と対数変換をそれぞれ試して統計量と分布をみてみる"
   ]
  },
  {
   "cell_type": "code",
   "execution_count": 33,
   "metadata": {},
   "outputs": [
    {
     "data": {
      "image/png": "[encoded data removed]",
      "text/plain": [
       "<matplotlib.figure.Figure at 0x7f4e6d607a58>"
      ]
     },
     "metadata": {},
     "output_type": "display_data"
    }
   ],
   "source": [
    "# annual_inc（年収入）の分布をみてみよう\n",
    "df.annual_inc.hist(bins=100)\n",
    "plt.xlabel('annual income')\n",
    "plt.ylabel('count')\n",
    "plt.show()"
   ]
  },
  {
   "cell_type": "code",
   "execution_count": 34,
   "metadata": {},
   "outputs": [
    {
     "data": {
      "image/png": "[encoded data removed]",
      "text/plain": [
       "<matplotlib.figure.Figure at 0x7f4e7348f470>"
      ]
     },
     "metadata": {},
     "output_type": "display_data"
    },
    {
     "name": "stdout",
     "output_type": "stream",
     "text": [
      "count    4.999700e+04\n",
      "mean    -1.810150e-16\n",
      "std      1.000010e+00\n",
      "min     -1.209059e+00\n",
      "25%     -4.897813e-01\n",
      "50%     -1.669454e-01\n",
      "75%      2.527411e-01\n",
      "max      1.063689e+02\n",
      "Name: annual_inc, dtype: float64\n"
     ]
    }
   ],
   "source": [
    "# StandardScalerの場合\n",
    "# mean=0, std=1になっているが、分布形状には変化がないことがわかる。\n",
    "scaler = StandardScaler()\n",
    "df_temp = df.copy()\n",
    "\n",
    "df_temp.loc[df.annual_inc.isnull()==False, 'annual_inc'] = scaler.fit_transform(df[['annual_inc']].dropna())\n",
    "\n",
    "df_temp.annual_inc.hist(bins=100)\n",
    "plt.xlabel('annual income')\n",
    "plt.ylabel('count')\n",
    "plt.show()\n",
    "\n",
    "print(df_temp.annual_inc.describe())"
   ]
  },
  {
   "cell_type": "code",
   "execution_count": 35,
   "metadata": {},
   "outputs": [
    {
     "data": {
      "image/png": "[encoded data removed]",
      "text/plain": [
       "<matplotlib.figure.Figure at 0x7f4e736442e8>"
      ]
     },
     "metadata": {},
     "output_type": "display_data"
    },
    {
     "name": "stdout",
     "output_type": "stream",
     "text": [
      "count    49997.000000\n",
      "mean         0.011239\n",
      "std          0.009296\n",
      "min          0.000000\n",
      "25%          0.006686\n",
      "50%          0.009687\n",
      "75%          0.013588\n",
      "max          1.000000\n",
      "Name: annual_inc, dtype: float64\n"
     ]
    }
   ],
   "source": [
    "# MinMaxScalerの場合\n",
    "# min=0, max=1になっているが、分布形状には変化がないことがわかる。\n",
    "scaler = MinMaxScaler()\n",
    "df_temp = df.copy()\n",
    "\n",
    "df_temp.loc[df.annual_inc.isnull()==False, 'annual_inc'] = scaler.fit_transform(df[['annual_inc']].dropna())\n",
    "\n",
    "df_temp.annual_inc.hist(bins=100)\n",
    "plt.xlabel('annual income')\n",
    "plt.ylabel('count')\n",
    "plt.show()\n",
    "\n",
    "print(df_temp.annual_inc.describe())"
   ]
  },
  {
   "cell_type": "code",
   "execution_count": 36,
   "metadata": {},
   "outputs": [
    {
     "data": {
      "image/png": "[encoded data removed]",
      "text/plain": [
       "<matplotlib.figure.Figure at 0x7f4e75db7c50>"
      ]
     },
     "metadata": {},
     "output_type": "display_data"
    },
    {
     "name": "stdout",
     "output_type": "stream",
     "text": [
      "count    49997.000000\n",
      "mean        -0.000157\n",
      "std          0.998622\n",
      "min         -5.199338\n",
      "25%         -0.668987\n",
      "50%          0.022584\n",
      "75%          0.674490\n",
      "max          5.199338\n",
      "Name: annual_inc, dtype: float64\n"
     ]
    }
   ],
   "source": [
    "# QuantileTransformer(RankGauss)の場合\n",
    "# mean=0, std=1になっており、分布形状も正規分布になっている。\n",
    "scaler = QuantileTransformer(output_distribution='normal')\n",
    "df_temp = df.copy()\n",
    "\n",
    "df_temp.loc[df.annual_inc.isnull()==False, 'annual_inc'] = scaler.fit_transform(df[['annual_inc']].dropna())\n",
    "\n",
    "df_temp.annual_inc.hist(bins=100)\n",
    "plt.xlabel('annual income')\n",
    "plt.ylabel('count')\n",
    "plt.show()\n",
    "\n",
    "print(df_temp.annual_inc.describe())"
   ]
  },
  {
   "cell_type": "code",
   "execution_count": 37,
   "metadata": {},
   "outputs": [
    {
     "data": {
      "image/png": "[encoded data removed]",
      "text/plain": [
       "<matplotlib.figure.Figure at 0x7f4e6d6078d0>"
      ]
     },
     "metadata": {},
     "output_type": "display_data"
    }
   ],
   "source": [
    "# annual_inc（年収入）は対数正規分布に従うことが知られている。\n",
    "np.log(df.annual_inc).hist(bins=100)\n",
    "plt.xlabel('log(annual income)')\n",
    "plt.ylabel('count')\n",
    "plt.show()"
   ]
  },
  {
   "cell_type": "code",
   "execution_count": 38,
   "metadata": {},
   "outputs": [],
   "source": [
    "df['annual_inc_d_emp_length'] = df.annual_inc / df.emp_length"
   ]
  },
  {
   "cell_type": "code",
   "execution_count": 39,
   "metadata": {},
   "outputs": [],
   "source": [
    "df['annual_inc_d_tot_cur_bal'] = df.annual_inc / df.tot_cur_bal"
   ]
  },
  {
   "cell_type": "code",
   "execution_count": 40,
   "metadata": {},
   "outputs": [],
   "source": [
    "start_year = df.earliest_cr_line.dropna().apply(lambda x: int(x.split('-')[-1]))\n",
    "df.loc[df.earliest_cr_line.isnull()==False, 'since_start'] = df.loc[df.earliest_cr_line.isnull()==False, 'year'] - start_year"
   ]
  },
  {
   "cell_type": "code",
   "execution_count": 41,
   "metadata": {
    "collapsed": true
   },
   "outputs": [],
   "source": [
    "# 対数変換を採用することとして元データを置換する。\n",
    "df.loc[df.annual_inc.isnull()==False, 'annual_inc'] = np.log(df.annual_inc.dropna())"
   ]
  },
  {
   "cell_type": "code",
   "execution_count": 42,
   "metadata": {
    "collapsed": true
   },
   "outputs": [],
   "source": [
    "df.to_csv('LendingClub50000_num.csv', index=False)"
   ]
  },
  {
   "cell_type": "code",
   "execution_count": null,
   "metadata": {},
   "outputs": [],
   "source": [
    "# ダウンロードしたら、DataRobotでもう一度予測してみよう\n",
    "files.download('LendingClub50000_num.csv')"
   ]
  },
  {
   "cell_type": "code",
   "execution_count": null,
   "metadata": {
    "collapsed": true
   },
   "outputs": [],
   "source": []
  }
 ],
 "metadata": {
  "kernelspec": {
   "display_name": "Python 3",
   "language": "python",
   "name": "python3"
  },
  "language_info": {
   "codemirror_mode": {
    "name": "ipython",
    "version": 3
   },
   "file_extension": ".py",
   "mimetype": "text/x-python",
   "name": "python",
   "nbconvert_exporter": "python",
   "pygments_lexer": "ipython3",
   "version": "3.6.3"
  }
 },
 "nbformat": 4,
 "nbformat_minor": 2
}
