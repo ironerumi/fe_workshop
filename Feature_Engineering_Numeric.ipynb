{
 "cells": [
  {
   "cell_type": "markdown",
   "metadata": {
    "colab_type": "text",
    "id": "-VsaCGcuU7tN"
   },
   "source": [
    "# 特徴量エンジニアリング（数値特徴量）"
   ]
  },
  {
   "cell_type": "code",
   "execution_count": null,
   "metadata": {
    "colab": {
     "base_uri": "https://localhost:8080/",
     "height": 34
    },
    "colab_type": "code",
    "id": "NtFNjXwAU7tO",
    "outputId": "b900074e-facb-4f4d-ab52-db0e9a5565b0"
   },
   "outputs": [],
   "source": [
    "!git clone https://github.com/ironerumi/fe_workshop.git -q\n",
    "!pip install scikit-learn==0.23.1 -q \n",
    "!pip install japanize-matplotlib -q"
   ]
  },
  {
   "cell_type": "code",
   "execution_count": null,
   "metadata": {
    "colab": {},
    "colab_type": "code",
    "id": "itF8s21CU7tR"
   },
   "outputs": [],
   "source": [
    "import warnings\n",
    "warnings.filterwarnings('ignore')\n",
    "\n",
    "import numpy as np\n",
    "import pandas as pd\n",
    "from pandas import DataFrame, Series\n",
    "pd.set_option('display.max_columns', 100)\n",
    "\n",
    "from sklearn.preprocessing import StandardScaler, MinMaxScaler, QuantileTransformer\n",
    "\n",
    "import seaborn as sns\n",
    "import japanize_matplotlib\n",
    "import matplotlib.pyplot as plt\n",
    "sns.set(font=\"IPAexGothic\")\n",
    "plt.style.use('ggplot')\n",
    "%matplotlib inline\n",
    "\n",
    "from google.colab import files"
   ]
  },
  {
   "cell_type": "code",
   "execution_count": null,
   "metadata": {
    "colab": {},
    "colab_type": "code",
    "id": "DlC1SLsiU7tU"
   },
   "outputs": [],
   "source": [
    "# collaboratoryにLendingClub50000.csvをアップロードする。\n",
    "# uploaded = files.upload() # ローカルからアップロードできるが今回は使用しない。"
   ]
  },
  {
   "cell_type": "code",
   "execution_count": null,
   "metadata": {
    "colab": {},
    "colab_type": "code",
    "id": "Ic46w2thU7tW"
   },
   "outputs": [],
   "source": [
    "# ファイルを読み込む\n",
    "df = pd.read_csv(\"fe_workshop/dataset/LendingClub50000.csv\")"
   ]
  },
  {
   "cell_type": "code",
   "execution_count": 5,
   "metadata": {
    "colab": {
     "base_uri": "https://localhost:8080/",
     "height": 1000
    },
    "colab_type": "code",
    "id": "IdZRn-gmU7tZ",
    "outputId": "1a4e266c-c423-4504-f520-e500a6bd382b"
   },
   "outputs": [
    {
     "data": {
      "text/html": [
       "<div>\n",
       "<style scoped>\n",
       "    .dataframe tbody tr th:only-of-type {\n",
       "        vertical-align: middle;\n",
       "    }\n",
       "\n",
       "    .dataframe tbody tr th {\n",
       "        vertical-align: top;\n",
       "    }\n",
       "\n",
       "    .dataframe thead th {\n",
       "        text-align: right;\n",
       "    }\n",
       "</style>\n",
       "<table border=\"1\" class=\"dataframe\">\n",
       "  <thead>\n",
       "    <tr style=\"text-align: right;\">\n",
       "      <th></th>\n",
       "      <th>0</th>\n",
       "      <th>1</th>\n",
       "      <th>2</th>\n",
       "      <th>3</th>\n",
       "      <th>4</th>\n",
       "    </tr>\n",
       "  </thead>\n",
       "  <tbody>\n",
       "    <tr>\n",
       "      <th>申込ID</th>\n",
       "      <td>1529851</td>\n",
       "      <td>1824764</td>\n",
       "      <td>403548</td>\n",
       "      <td>646411</td>\n",
       "      <td>552526</td>\n",
       "    </tr>\n",
       "    <tr>\n",
       "      <th>メンバーID</th>\n",
       "      <td>1793711</td>\n",
       "      <td>2126933</td>\n",
       "      <td>442721</td>\n",
       "      <td>799671</td>\n",
       "      <td>711946</td>\n",
       "    </tr>\n",
       "    <tr>\n",
       "      <th>年</th>\n",
       "      <td>2012</td>\n",
       "      <td>2012</td>\n",
       "      <td>2009</td>\n",
       "      <td>2011</td>\n",
       "      <td>2010</td>\n",
       "    </tr>\n",
       "    <tr>\n",
       "      <th>月</th>\n",
       "      <td>9</td>\n",
       "      <td>11</td>\n",
       "      <td>5</td>\n",
       "      <td>1</td>\n",
       "      <td>7</td>\n",
       "    </tr>\n",
       "    <tr>\n",
       "      <th>ローン申請額</th>\n",
       "      <td>16000</td>\n",
       "      <td>3600</td>\n",
       "      <td>19200</td>\n",
       "      <td>21000</td>\n",
       "      <td>4000</td>\n",
       "    </tr>\n",
       "    <tr>\n",
       "      <th>借り入れ目的（大分類）</th>\n",
       "      <td>debt_consolidation</td>\n",
       "      <td>debt_consolidation</td>\n",
       "      <td>wedding</td>\n",
       "      <td>credit_card</td>\n",
       "      <td>other</td>\n",
       "    </tr>\n",
       "    <tr>\n",
       "      <th>借り入れ目的（小分類）</th>\n",
       "      <td>Debt Consolidation / Final Wedding Exp</td>\n",
       "      <td>Crush Credit Cards</td>\n",
       "      <td>Consolidate debt and pay for wedding</td>\n",
       "      <td>Wells BofA Credit Card Refi</td>\n",
       "      <td>Debt Consolidation</td>\n",
       "    </tr>\n",
       "    <tr>\n",
       "      <th>勤務先</th>\n",
       "      <td>PwC</td>\n",
       "      <td>Morgan Stanley Smith Barney</td>\n",
       "      <td>Aggregate Knowledge</td>\n",
       "      <td>Emerson Process Management</td>\n",
       "      <td>Home Depot</td>\n",
       "    </tr>\n",
       "    <tr>\n",
       "      <th>勤続年数</th>\n",
       "      <td>3</td>\n",
       "      <td>2</td>\n",
       "      <td>1</td>\n",
       "      <td>1</td>\n",
       "      <td>1</td>\n",
       "    </tr>\n",
       "    <tr>\n",
       "      <th>居住形態</th>\n",
       "      <td>RENT</td>\n",
       "      <td>RENT</td>\n",
       "      <td>RENT</td>\n",
       "      <td>RENT</td>\n",
       "      <td>RENT</td>\n",
       "    </tr>\n",
       "    <tr>\n",
       "      <th>年収</th>\n",
       "      <td>90400</td>\n",
       "      <td>42500</td>\n",
       "      <td>95000</td>\n",
       "      <td>85000</td>\n",
       "      <td>63500</td>\n",
       "    </tr>\n",
       "    <tr>\n",
       "      <th>郵便番号</th>\n",
       "      <td>080xx</td>\n",
       "      <td>217xx</td>\n",
       "      <td>940xx</td>\n",
       "      <td>926xx</td>\n",
       "      <td>303xx</td>\n",
       "    </tr>\n",
       "    <tr>\n",
       "      <th>住所（州）</th>\n",
       "      <td>NJ</td>\n",
       "      <td>MD</td>\n",
       "      <td>CA</td>\n",
       "      <td>CA</td>\n",
       "      <td>GA</td>\n",
       "    </tr>\n",
       "    <tr>\n",
       "      <th>ローン対収入</th>\n",
       "      <td>23.72</td>\n",
       "      <td>17.34</td>\n",
       "      <td>7.58</td>\n",
       "      <td>17.07</td>\n",
       "      <td>19.5</td>\n",
       "    </tr>\n",
       "    <tr>\n",
       "      <th>グレード</th>\n",
       "      <td>A</td>\n",
       "      <td>B</td>\n",
       "      <td>B</td>\n",
       "      <td>B</td>\n",
       "      <td>C</td>\n",
       "    </tr>\n",
       "    <tr>\n",
       "      <th>サブグレード</th>\n",
       "      <td>A4</td>\n",
       "      <td>B3</td>\n",
       "      <td>B4</td>\n",
       "      <td>B5</td>\n",
       "      <td>C4</td>\n",
       "    </tr>\n",
       "    <tr>\n",
       "      <th>滞納（過去二年）</th>\n",
       "      <td>0</td>\n",
       "      <td>0</td>\n",
       "      <td>0</td>\n",
       "      <td>0</td>\n",
       "      <td>1</td>\n",
       "    </tr>\n",
       "    <tr>\n",
       "      <th>クレジットライン開始</th>\n",
       "      <td>Oct-2003</td>\n",
       "      <td>Dec-2004</td>\n",
       "      <td>Mar-1999</td>\n",
       "      <td>Jun-1999</td>\n",
       "      <td>Oct-2002</td>\n",
       "    </tr>\n",
       "    <tr>\n",
       "      <th>照会数（過去6ヶ月）</th>\n",
       "      <td>0</td>\n",
       "      <td>0</td>\n",
       "      <td>0</td>\n",
       "      <td>1</td>\n",
       "      <td>2</td>\n",
       "    </tr>\n",
       "    <tr>\n",
       "      <th>直近の滞納からの月数</th>\n",
       "      <td>NaN</td>\n",
       "      <td>NaN</td>\n",
       "      <td>NaN</td>\n",
       "      <td>NaN</td>\n",
       "      <td>23</td>\n",
       "    </tr>\n",
       "    <tr>\n",
       "      <th>採集記録からの月数</th>\n",
       "      <td>NaN</td>\n",
       "      <td>NaN</td>\n",
       "      <td>NaN</td>\n",
       "      <td>NaN</td>\n",
       "      <td>NaN</td>\n",
       "    </tr>\n",
       "    <tr>\n",
       "      <th>開いているアカウント数</th>\n",
       "      <td>21</td>\n",
       "      <td>16</td>\n",
       "      <td>11</td>\n",
       "      <td>12</td>\n",
       "      <td>16</td>\n",
       "    </tr>\n",
       "    <tr>\n",
       "      <th>悪評記録数</th>\n",
       "      <td>0</td>\n",
       "      <td>0</td>\n",
       "      <td>0</td>\n",
       "      <td>0</td>\n",
       "      <td>0</td>\n",
       "    </tr>\n",
       "    <tr>\n",
       "      <th>リボ払い残高</th>\n",
       "      <td>3946</td>\n",
       "      <td>10927</td>\n",
       "      <td>14006</td>\n",
       "      <td>36280</td>\n",
       "      <td>595</td>\n",
       "    </tr>\n",
       "    <tr>\n",
       "      <th>リボ枠活用率</th>\n",
       "      <td>22.4</td>\n",
       "      <td>63.5</td>\n",
       "      <td>20.3</td>\n",
       "      <td>47.6</td>\n",
       "      <td>11.4</td>\n",
       "    </tr>\n",
       "    <tr>\n",
       "      <th>過去の全アカウント数</th>\n",
       "      <td>42</td>\n",
       "      <td>30</td>\n",
       "      <td>26</td>\n",
       "      <td>25</td>\n",
       "      <td>24</td>\n",
       "    </tr>\n",
       "    <tr>\n",
       "      <th>ローンリストステータス初期値</th>\n",
       "      <td>f</td>\n",
       "      <td>f</td>\n",
       "      <td>f</td>\n",
       "      <td>f</td>\n",
       "      <td>f</td>\n",
       "    </tr>\n",
       "    <tr>\n",
       "      <th>徴収数（過去12ヶ月）</th>\n",
       "      <td>0</td>\n",
       "      <td>0</td>\n",
       "      <td>0</td>\n",
       "      <td>0</td>\n",
       "      <td>0</td>\n",
       "    </tr>\n",
       "    <tr>\n",
       "      <th>前回の悪評価からの月数</th>\n",
       "      <td>NaN</td>\n",
       "      <td>NaN</td>\n",
       "      <td>NaN</td>\n",
       "      <td>NaN</td>\n",
       "      <td>NaN</td>\n",
       "    </tr>\n",
       "    <tr>\n",
       "      <th>申し込みタイプ</th>\n",
       "      <td>INDIVIDUAL</td>\n",
       "      <td>INDIVIDUAL</td>\n",
       "      <td>INDIVIDUAL</td>\n",
       "      <td>INDIVIDUAL</td>\n",
       "      <td>INDIVIDUAL</td>\n",
       "    </tr>\n",
       "    <tr>\n",
       "      <th>現行滞納アカウント数</th>\n",
       "      <td>0</td>\n",
       "      <td>0</td>\n",
       "      <td>0</td>\n",
       "      <td>0</td>\n",
       "      <td>0</td>\n",
       "    </tr>\n",
       "    <tr>\n",
       "      <th>徴収総額</th>\n",
       "      <td>0</td>\n",
       "      <td>8806</td>\n",
       "      <td>NaN</td>\n",
       "      <td>NaN</td>\n",
       "      <td>NaN</td>\n",
       "    </tr>\n",
       "    <tr>\n",
       "      <th>全口座残高</th>\n",
       "      <td>164787</td>\n",
       "      <td>96627</td>\n",
       "      <td>NaN</td>\n",
       "      <td>NaN</td>\n",
       "      <td>NaN</td>\n",
       "    </tr>\n",
       "    <tr>\n",
       "      <th>貸し倒れ</th>\n",
       "      <td>False</td>\n",
       "      <td>False</td>\n",
       "      <td>False</td>\n",
       "      <td>False</td>\n",
       "      <td>False</td>\n",
       "    </tr>\n",
       "  </tbody>\n",
       "</table>\n",
       "</div>"
      ],
      "text/plain": [
       "                                                     0  \\\n",
       "申込ID                                           1529851   \n",
       "メンバーID                                         1793711   \n",
       "年                                                 2012   \n",
       "月                                                    9   \n",
       "ローン申請額                                           16000   \n",
       "借り入れ目的（大分類）                         debt_consolidation   \n",
       "借り入れ目的（小分類）     Debt Consolidation / Final Wedding Exp   \n",
       "勤務先                                                PwC   \n",
       "勤続年数                                                 3   \n",
       "居住形態                                              RENT   \n",
       "年収                                               90400   \n",
       "郵便番号                                             080xx   \n",
       "住所（州）                                               NJ   \n",
       "ローン対収入                                           23.72   \n",
       "グレード                                                 A   \n",
       "サブグレード                                              A4   \n",
       "滞納（過去二年）                                             0   \n",
       "クレジットライン開始                                    Oct-2003   \n",
       "照会数（過去6ヶ月）                                           0   \n",
       "直近の滞納からの月数                                         NaN   \n",
       "採集記録からの月数                                          NaN   \n",
       "開いているアカウント数                                         21   \n",
       "悪評記録数                                                0   \n",
       "リボ払い残高                                            3946   \n",
       "リボ枠活用率                                            22.4   \n",
       "過去の全アカウント数                                          42   \n",
       "ローンリストステータス初期値                                       f   \n",
       "徴収数（過去12ヶ月）                                          0   \n",
       "前回の悪評価からの月数                                        NaN   \n",
       "申し込みタイプ                                     INDIVIDUAL   \n",
       "現行滞納アカウント数                                           0   \n",
       "徴収総額                                                 0   \n",
       "全口座残高                                           164787   \n",
       "貸し倒れ                                             False   \n",
       "\n",
       "                                          1  \\\n",
       "申込ID                                1824764   \n",
       "メンバーID                              2126933   \n",
       "年                                      2012   \n",
       "月                                        11   \n",
       "ローン申請額                                 3600   \n",
       "借り入れ目的（大分類）              debt_consolidation   \n",
       "借り入れ目的（小分類）              Crush Credit Cards   \n",
       "勤務先             Morgan Stanley Smith Barney   \n",
       "勤続年数                                      2   \n",
       "居住形態                                   RENT   \n",
       "年収                                    42500   \n",
       "郵便番号                                  217xx   \n",
       "住所（州）                                    MD   \n",
       "ローン対収入                                17.34   \n",
       "グレード                                      B   \n",
       "サブグレード                                   B3   \n",
       "滞納（過去二年）                                  0   \n",
       "クレジットライン開始                         Dec-2004   \n",
       "照会数（過去6ヶ月）                                0   \n",
       "直近の滞納からの月数                              NaN   \n",
       "採集記録からの月数                               NaN   \n",
       "開いているアカウント数                              16   \n",
       "悪評記録数                                     0   \n",
       "リボ払い残高                                10927   \n",
       "リボ枠活用率                                 63.5   \n",
       "過去の全アカウント数                               30   \n",
       "ローンリストステータス初期値                            f   \n",
       "徴収数（過去12ヶ月）                               0   \n",
       "前回の悪評価からの月数                             NaN   \n",
       "申し込みタイプ                          INDIVIDUAL   \n",
       "現行滞納アカウント数                                0   \n",
       "徴収総額                                   8806   \n",
       "全口座残高                                 96627   \n",
       "貸し倒れ                                  False   \n",
       "\n",
       "                                                   2  \\\n",
       "申込ID                                          403548   \n",
       "メンバーID                                        442721   \n",
       "年                                               2009   \n",
       "月                                                  5   \n",
       "ローン申請額                                         19200   \n",
       "借り入れ目的（大分類）                                  wedding   \n",
       "借り入れ目的（小分類）     Consolidate debt and pay for wedding   \n",
       "勤務先                              Aggregate Knowledge   \n",
       "勤続年数                                               1   \n",
       "居住形態                                            RENT   \n",
       "年収                                             95000   \n",
       "郵便番号                                           940xx   \n",
       "住所（州）                                             CA   \n",
       "ローン対収入                                          7.58   \n",
       "グレード                                               B   \n",
       "サブグレード                                            B4   \n",
       "滞納（過去二年）                                           0   \n",
       "クレジットライン開始                                  Mar-1999   \n",
       "照会数（過去6ヶ月）                                         0   \n",
       "直近の滞納からの月数                                       NaN   \n",
       "採集記録からの月数                                        NaN   \n",
       "開いているアカウント数                                       11   \n",
       "悪評記録数                                              0   \n",
       "リボ払い残高                                         14006   \n",
       "リボ枠活用率                                          20.3   \n",
       "過去の全アカウント数                                        26   \n",
       "ローンリストステータス初期値                                     f   \n",
       "徴収数（過去12ヶ月）                                        0   \n",
       "前回の悪評価からの月数                                      NaN   \n",
       "申し込みタイプ                                   INDIVIDUAL   \n",
       "現行滞納アカウント数                                         0   \n",
       "徴収総額                                             NaN   \n",
       "全口座残高                                            NaN   \n",
       "貸し倒れ                                           False   \n",
       "\n",
       "                                          3                   4  \n",
       "申込ID                                 646411              552526  \n",
       "メンバーID                               799671              711946  \n",
       "年                                      2011                2010  \n",
       "月                                         1                   7  \n",
       "ローン申請額                                21000                4000  \n",
       "借り入れ目的（大分類）                     credit_card               other  \n",
       "借り入れ目的（小分類）     Wells BofA Credit Card Refi  Debt Consolidation  \n",
       "勤務先              Emerson Process Management          Home Depot  \n",
       "勤続年数                                      1                   1  \n",
       "居住形態                                   RENT                RENT  \n",
       "年収                                    85000               63500  \n",
       "郵便番号                                  926xx               303xx  \n",
       "住所（州）                                    CA                  GA  \n",
       "ローン対収入                                17.07                19.5  \n",
       "グレード                                      B                   C  \n",
       "サブグレード                                   B5                  C4  \n",
       "滞納（過去二年）                                  0                   1  \n",
       "クレジットライン開始                         Jun-1999            Oct-2002  \n",
       "照会数（過去6ヶ月）                                1                   2  \n",
       "直近の滞納からの月数                              NaN                  23  \n",
       "採集記録からの月数                               NaN                 NaN  \n",
       "開いているアカウント数                              12                  16  \n",
       "悪評記録数                                     0                   0  \n",
       "リボ払い残高                                36280                 595  \n",
       "リボ枠活用率                                 47.6                11.4  \n",
       "過去の全アカウント数                               25                  24  \n",
       "ローンリストステータス初期値                            f                   f  \n",
       "徴収数（過去12ヶ月）                               0                   0  \n",
       "前回の悪評価からの月数                             NaN                 NaN  \n",
       "申し込みタイプ                          INDIVIDUAL          INDIVIDUAL  \n",
       "現行滞納アカウント数                                0                   0  \n",
       "徴収総額                                    NaN                 NaN  \n",
       "全口座残高                                   NaN                 NaN  \n",
       "貸し倒れ                                  False               False  "
      ]
     },
     "execution_count": 5,
     "metadata": {
      "tags": []
     },
     "output_type": "execute_result"
    }
   ],
   "source": [
    "df.head().T"
   ]
  },
  {
   "cell_type": "markdown",
   "metadata": {
    "colab_type": "text",
    "id": "_ucKY7pRU7tc"
   },
   "source": [
    "## 各標準化手法と対数変換をそれぞれ試して統計量と分布をみてみる"
   ]
  },
  {
   "cell_type": "code",
   "execution_count": 6,
   "metadata": {
    "colab": {
     "base_uri": "https://localhost:8080/",
     "height": 624
    },
    "colab_type": "code",
    "id": "I69Hz2KfU7tc",
    "outputId": "b1686a47-2cac-4626-b08a-ba51d1ca9e8c"
   },
   "outputs": [
    {
     "data": {
      "image/png": "[encoded data removed]",
      "text/plain": [
       "<Figure size 432x288 with 1 Axes>"
      ]
     },
     "metadata": {
      "needs_background": "light",
      "tags": []
     },
     "output_type": "display_data"
    },
    {
     "name": "stdout",
     "output_type": "stream",
     "text": [
      "年収入の統計情報：\n",
      "|       |      年収 |\n",
      "|:------|----------:|\n",
      "| count | 49997     |\n",
      "| mean  | 69308.2   |\n",
      "| std   | 55756.4   |\n",
      "| min   |  1896     |\n",
      "| 25%   | 42000     |\n",
      "| 50%   | 60000     |\n",
      "| 75%   | 83400     |\n",
      "| max   |     6e+06 |\n",
      "\n",
      "年収入の先頭5行：\n",
      "|    |   年収 |\n",
      "|---:|-------:|\n",
      "|  0 |  90400 |\n",
      "|  1 |  42500 |\n",
      "|  2 |  95000 |\n",
      "|  3 |  85000 |\n",
      "|  4 |  63500 |\n"
     ]
    }
   ],
   "source": [
    "# annual_inc（年収入）の分布をみてみよう\n",
    "df[\"年収\"].hist(bins=100)\n",
    "plt.yscale(\"symlog\")\n",
    "plt.xlabel(\"年収入\")\n",
    "plt.ylabel(\"カウント\")\n",
    "plt.show()\n",
    "print(\"年収入の統計情報：\\n\" + df[\"年収\"].describe().apply(\"{0:.2f}\".format).to_markdown())\n",
    "print(\"\\n年収入の先頭5行：\\n\" + df[\"年収\"].head().to_markdown())"
   ]
  },
  {
   "cell_type": "code",
   "execution_count": 7,
   "metadata": {
    "colab": {
     "base_uri": "https://localhost:8080/",
     "height": 624
    },
    "colab_type": "code",
    "id": "aG29LR66U7te",
    "outputId": "3874ef93-10ca-48f3-8247-3d32ba59b07b"
   },
   "outputs": [
    {
     "data": {
      "image/png": "[encoded data removed]",
      "text/plain": [
       "<Figure size 432x288 with 1 Axes>"
      ]
     },
     "metadata": {
      "needs_background": "light",
      "tags": []
     },
     "output_type": "display_data"
    },
    {
     "name": "stdout",
     "output_type": "stream",
     "text": [
      "年収入（StandardScaler）の統計情報：\n",
      "|       |      年収 |\n",
      "|:------|----------:|\n",
      "| count | 49997     |\n",
      "| mean  | 69308.2   |\n",
      "| std   | 55756.4   |\n",
      "| min   |  1896     |\n",
      "| 25%   | 42000     |\n",
      "| 50%   | 60000     |\n",
      "| 75%   | 83400     |\n",
      "| max   |     6e+06 |\n",
      "\n",
      "年収入（StandardScaler）の先頭5行：\n",
      "|    |   年収 |\n",
      "|---:|-------:|\n",
      "|  0 |  90400 |\n",
      "|  1 |  42500 |\n",
      "|  2 |  95000 |\n",
      "|  3 |  85000 |\n",
      "|  4 |  63500 |\n"
     ]
    }
   ],
   "source": [
    "# StandardScalerの場合\n",
    "# mean=0, std=1になっているが、分布形状には変化がないことがわかる。\n",
    "scaler = StandardScaler()\n",
    "df_temp = df.copy()\n",
    "df_temp.loc[~df[\"年収\"].isnull(), \"annual_inc\"] = scaler.fit_transform(\n",
    "    df[[\"年収\"]].dropna()\n",
    ")\n",
    "df_temp[\"年収\"].hist(bins=100)\n",
    "\n",
    "plt.yscale(\"symlog\")\n",
    "plt.xlabel(\"年収入（StandardScaler）\")\n",
    "plt.ylabel(\"カウント\")\n",
    "plt.show()\n",
    "\n",
    "print(\n",
    "    \"年収入（StandardScaler）の統計情報：\\n\"\n",
    "    + df_temp[\"年収\"].describe().apply(\"{0:.2f}\".format).to_markdown()\n",
    ")\n",
    "print(\"\\n年収入（StandardScaler）の先頭5行：\\n\" + df_temp[\"年収\"].head().to_markdown())"
   ]
  },
  {
   "cell_type": "code",
   "execution_count": 8,
   "metadata": {
    "colab": {
     "base_uri": "https://localhost:8080/",
     "height": 624
    },
    "colab_type": "code",
    "id": "c3BaLaxAU7th",
    "outputId": "a232e791-edf5-4576-ecb9-2ebdc6f7bcd0"
   },
   "outputs": [
    {
     "data": {
      "image/png": "[encoded data removed]",
      "text/plain": [
       "<Figure size 432x288 with 1 Axes>"
      ]
     },
     "metadata": {
      "needs_background": "light",
      "tags": []
     },
     "output_type": "display_data"
    },
    {
     "name": "stdout",
     "output_type": "stream",
     "text": [
      "年収入（MinMaxScaler）の統計情報：\n",
      "|       |      年収 |\n",
      "|:------|----------:|\n",
      "| count | 49997     |\n",
      "| mean  | 69308.2   |\n",
      "| std   | 55756.4   |\n",
      "| min   |  1896     |\n",
      "| 25%   | 42000     |\n",
      "| 50%   | 60000     |\n",
      "| 75%   | 83400     |\n",
      "| max   |     6e+06 |\n",
      "\n",
      "年収入（MinMaxScaler）の先頭5行：\n",
      "|    |   年収 |\n",
      "|---:|-------:|\n",
      "|  0 |  90400 |\n",
      "|  1 |  42500 |\n",
      "|  2 |  95000 |\n",
      "|  3 |  85000 |\n",
      "|  4 |  63500 |\n"
     ]
    }
   ],
   "source": [
    "# MinMaxScalerの場合\n",
    "# min=0, max=1になっているが、分布形状には変化がないことがわかる。\n",
    "scaler = MinMaxScaler()\n",
    "\n",
    "df_temp = df.copy()\n",
    "df_temp.loc[~df[\"年収\"].isnull(), \"annual_inc\"] = scaler.fit_transform(\n",
    "    df[[\"年収\"]].dropna()\n",
    ")\n",
    "df_temp[\"年収\"].hist(bins=100)\n",
    "\n",
    "plt.yscale(\"symlog\")\n",
    "plt.xlabel(\"年収入（MinMaxScaler）\")\n",
    "plt.ylabel(\"カウント\")\n",
    "plt.show()\n",
    "\n",
    "print(\n",
    "    \"年収入（MinMaxScaler）の統計情報：\\n\"\n",
    "    + df_temp[\"年収\"].describe().apply(\"{0:.2f}\".format).to_markdown()\n",
    ")\n",
    "print(\"\\n年収入（MinMaxScaler）の先頭5行：\\n\" + df_temp[\"年収\"].head().to_markdown())"
   ]
  },
  {
   "cell_type": "code",
   "execution_count": 9,
   "metadata": {
    "colab": {
     "base_uri": "https://localhost:8080/",
     "height": 624
    },
    "colab_type": "code",
    "id": "wT6Y8Y98U7tj",
    "outputId": "bc1c9cfc-2b13-43b0-9d13-4b999a28395f"
   },
   "outputs": [
    {
     "data": {
      "image/png": "[encoded data removed]",
      "text/plain": [
       "<Figure size 432x288 with 1 Axes>"
      ]
     },
     "metadata": {
      "needs_background": "light",
      "tags": []
     },
     "output_type": "display_data"
    },
    {
     "name": "stdout",
     "output_type": "stream",
     "text": [
      "年収入（QuantileTransformer）の統計情報：\n",
      "|       |     年収 |\n",
      "|:------|---------:|\n",
      "| count | 49997    |\n",
      "| mean  |    -0    |\n",
      "| std   |     1    |\n",
      "| min   |    -5.2  |\n",
      "| 25%   |    -0.67 |\n",
      "| 50%   |     0.02 |\n",
      "| 75%   |     0.67 |\n",
      "| max   |     5.2  |\n",
      "\n",
      "年収入（QuantileTransformer）の先頭5行：\n",
      "|    |      年収 |\n",
      "|---:|----------:|\n",
      "|  0 |  0.853124 |\n",
      "|  1 | -0.639462 |\n",
      "|  2 |  0.92233  |\n",
      "|  3 |  0.718462 |\n",
      "|  4 |  0.136473 |\n"
     ]
    }
   ],
   "source": [
    "# QuantileTransformer(RankGauss)の場合\n",
    "# mean=0, std=1になっており、分布形状も正規分布になっている。\n",
    "scaler = QuantileTransformer(output_distribution=\"normal\")\n",
    "\n",
    "df_temp = df.copy()\n",
    "df_temp.loc[~df[\"年収\"].isnull(), \"年収\"] = scaler.fit_transform(df[[\"年収\"]].dropna())\n",
    "df_temp[\"年収\"].hist(bins=100)\n",
    "\n",
    "plt.xlabel(\"年収入（QuantileTransformer）\")\n",
    "plt.ylabel(\"カウント\")\n",
    "plt.show()\n",
    "\n",
    "print(\n",
    "    \"年収入（QuantileTransformer）の統計情報：\\n\"\n",
    "    + df_temp[\"年収\"].describe().apply(\"{0:.2f}\".format).to_markdown()\n",
    ")\n",
    "print(\"\\n年収入（QuantileTransformer）の先頭5行：\\n\" + df_temp[\"年収\"].head().to_markdown())"
   ]
  },
  {
   "cell_type": "code",
   "execution_count": 10,
   "metadata": {
    "colab": {
     "base_uri": "https://localhost:8080/",
     "height": 285
    },
    "colab_type": "code",
    "id": "1JfVjl-oU7tl",
    "outputId": "dc843695-480f-42bf-b4d5-c48ffad54798"
   },
   "outputs": [
    {
     "data": {
      "image/png": "[encoded data removed]",
      "text/plain": [
       "<Figure size 432x288 with 1 Axes>"
      ]
     },
     "metadata": {
      "needs_background": "light",
      "tags": []
     },
     "output_type": "display_data"
    }
   ],
   "source": [
    "# annual_inc（年収入）は対数正規分布に従うことが知られている。\n",
    "np.log(df[\"年収\"]).hist(bins=100)\n",
    "plt.xlabel(\"log(年収入)\")\n",
    "plt.ylabel(\"カウント\")\n",
    "plt.show()"
   ]
  },
  {
   "cell_type": "markdown",
   "metadata": {
    "colab_type": "text",
    "id": "0SaauO9kU7tn"
   },
   "source": [
    "## 交互作用の明示的な追加"
   ]
  },
  {
   "cell_type": "code",
   "execution_count": 11,
   "metadata": {
    "colab": {
     "base_uri": "https://localhost:8080/",
     "height": 403
    },
    "colab_type": "code",
    "id": "JekS_9_TU7tn",
    "outputId": "80d57c6e-80d8-43c8-b9f4-4f01596d3715"
   },
   "outputs": [
    {
     "data": {
      "image/png": "[encoded data removed]",
      "text/plain": [
       "<Figure size 432x288 with 1 Axes>"
      ]
     },
     "metadata": {
      "needs_background": "light",
      "tags": []
     },
     "output_type": "display_data"
    },
    {
     "name": "stdout",
     "output_type": "stream",
     "text": [
      "|    |   年収 |   勤続年数 |   勤続年数対年収入 |\n",
      "|---:|-------:|-----------:|-------------------:|\n",
      "|  0 |  90400 |          3 |            30133.3 |\n",
      "|  1 |  42500 |          2 |            21250   |\n",
      "|  2 |  95000 |          1 |            94999.9 |\n",
      "|  3 |  85000 |          1 |            84999.9 |\n",
      "|  4 |  63500 |          1 |            63499.9 |\n"
     ]
    }
   ],
   "source": [
    "eps = 1e-6\n",
    "\n",
    "df[\"勤続年数対年収入\"] = df[\"年収\"] / (df[\"勤続年数\"] + eps)\n",
    "# 勤続年数と年収入の比率。年数が浅いのに高年収だと能力が高い？\n",
    "df[\"勤続年数対年収入\"].hist(bins=100)\n",
    "plt.yscale(\"symlog\")\n",
    "plt.xlabel(\"勤続年数対年収入\")\n",
    "plt.ylabel(\"カウント\")\n",
    "plt.show()\n",
    "print(df[[\"年収\", \"勤続年数\", \"勤続年数対年収入\"]].head().to_markdown())"
   ]
  },
  {
   "cell_type": "code",
   "execution_count": 12,
   "metadata": {
    "colab": {
     "base_uri": "https://localhost:8080/",
     "height": 403
    },
    "colab_type": "code",
    "id": "HjVcMTEGU7tq",
    "outputId": "2a19047f-14a5-48af-d429-c475ce710f07"
   },
   "outputs": [
    {
     "data": {
      "image/png": "[encoded data removed]",
      "text/plain": [
       "<Figure size 432x288 with 1 Axes>"
      ]
     },
     "metadata": {
      "needs_background": "light",
      "tags": []
     },
     "output_type": "display_data"
    },
    {
     "name": "stdout",
     "output_type": "stream",
     "text": [
      "|    |   年収 |   全口座残高 |   年収入対口座残高 |\n",
      "|---:|-------:|-------------:|-------------------:|\n",
      "|  0 |  90400 |       164787 |           0.548587 |\n",
      "|  1 |  42500 |        96627 |           0.439836 |\n",
      "|  2 |  95000 |          nan |         nan        |\n",
      "|  3 |  85000 |          nan |         nan        |\n",
      "|  4 |  63500 |          nan |         nan        |\n"
     ]
    }
   ],
   "source": [
    "eps = 1e-6\n",
    "\n",
    "df[\"年収入対口座残高\"] = df[\"年収\"] / (df[\"全口座残高\"] + eps)\n",
    "# 年収入と口座残高の比率。貯蓄性向が高い人はコツコツ貯める人なのだから、返済もコツコツできるのでは？\n",
    "df[\"年収入対口座残高\"].hist(bins=100)\n",
    "plt.yscale(\"symlog\")\n",
    "plt.xlabel(\"年収入対口座残高\")\n",
    "plt.ylabel(\"カウント\")\n",
    "plt.show()\n",
    "print(df[[\"年収\", \"全口座残高\", \"年収入対口座残高\"]].head().to_markdown())"
   ]
  },
  {
   "cell_type": "code",
   "execution_count": 13,
   "metadata": {
    "colab": {
     "base_uri": "https://localhost:8080/",
     "height": 403
    },
    "colab_type": "code",
    "id": "9RXct3yiU7tu",
    "outputId": "4d4215de-2522-44e7-eb11-d2dc25011c8f"
   },
   "outputs": [
    {
     "data": {
      "image/png": "[encoded data removed]",
      "text/plain": [
       "<Figure size 432x288 with 1 Axes>"
      ]
     },
     "metadata": {
      "needs_background": "light",
      "tags": []
     },
     "output_type": "display_data"
    },
    {
     "name": "stdout",
     "output_type": "stream",
     "text": [
      "|    | クレジットライン開始   |   経過年数 |\n",
      "|---:|:-----------------------|-----------:|\n",
      "|  0 | Oct-2003               |          9 |\n",
      "|  1 | Dec-2004               |          8 |\n",
      "|  2 | Mar-1999               |         10 |\n",
      "|  3 | Jun-1999               |         12 |\n",
      "|  4 | Oct-2002               |          8 |\n"
     ]
    }
   ],
   "source": [
    "start_year = df[\"クレジットライン開始\"].dropna().apply(lambda x: int(x.split(\"-\")[-1]))\n",
    "df.loc[~df[\"クレジットライン開始\"].isnull(), \"経過年数\"] = (\n",
    "    df.loc[~df[\"クレジットライン開始\"].isnull(), \"年\"] - start_year\n",
    ")\n",
    "# クレジットライン開始日と申請日の差分を計算して、経過年数を算出する。長くサービスを利用している人は安心度が高いのでは？\n",
    "# 上記ではまずクレジットラインの末尾から西暦を取り出している。\n",
    "df[\"経過年数\"].hist(bins=100)\n",
    "plt.yscale(\"symlog\")\n",
    "plt.xlabel(\"経過年数\")\n",
    "plt.ylabel(\"カウント\")\n",
    "plt.show()\n",
    "print(df[[\"クレジットライン開始\", \"経過年数\"]].head().to_markdown())"
   ]
  },
  {
   "cell_type": "code",
   "execution_count": 14,
   "metadata": {
    "colab": {
     "base_uri": "https://localhost:8080/",
     "height": 285
    },
    "colab_type": "code",
    "id": "9UIct6JCU7tw",
    "outputId": "93df830d-edae-4f0e-adc7-69004a57c919"
   },
   "outputs": [
    {
     "data": {
      "image/png": "[encoded data removed]",
      "text/plain": [
       "<Figure size 432x288 with 1 Axes>"
      ]
     },
     "metadata": {
      "needs_background": "light",
      "tags": []
     },
     "output_type": "display_data"
    }
   ],
   "source": [
    "# 変換については、対数変換を採用することとして元データを置換する。\n",
    "df.loc[~df[\"年収\"].isnull(), \"年収\"] = np.log(df[\"年収\"].dropna())\n",
    "df[\"年収\"].hist(bins=100)\n",
    "plt.xlabel(\"log(年収入)\")\n",
    "plt.ylabel(\"カウント\")\n",
    "plt.show()"
   ]
  },
  {
   "cell_type": "code",
   "execution_count": null,
   "metadata": {
    "colab": {},
    "colab_type": "code",
    "id": "aNBBTrQyU7tz"
   },
   "outputs": [],
   "source": [
    "df.to_csv(\"LendingClub50000_num.csv\", index=False)"
   ]
  },
  {
   "cell_type": "code",
   "execution_count": null,
   "metadata": {
    "colab": {
     "base_uri": "https://localhost:8080/",
     "height": 17
    },
    "colab_type": "code",
    "id": "gj4sYVDXU7t1",
    "outputId": "29ef1317-5aed-41aa-e303-c4e3b37998a6"
   },
   "outputs": [],
   "source": [
    "# ダウンロードしたら、DataRobotでもう一度予測してみよう\n",
    "files.download(\"LendingClub50000_num.csv\")"
   ]
  },
  {
   "cell_type": "code",
   "execution_count": 16,
   "metadata": {
    "colab": {},
    "colab_type": "code",
    "id": "t765sT9QU7t2"
   },
   "outputs": [],
   "source": []
  }
 ],
 "metadata": {
  "colab": {
   "name": "Feature_Engineering_Numeric.ipynb",
   "provenance": []
  },
  "kernelspec": {
   "display_name": "Python 3",
   "language": "python",
   "name": "python3"
  },
  "language_info": {
   "codemirror_mode": {
    "name": "ipython",
    "version": 3
   },
   "file_extension": ".py",
   "mimetype": "text/x-python",
   "name": "python",
   "nbconvert_exporter": "python",
   "pygments_lexer": "ipython3",
   "version": "3.7.6"
  }
 },
 "nbformat": 4,
 "nbformat_minor": 4
}
